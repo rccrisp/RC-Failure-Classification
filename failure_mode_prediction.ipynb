{
 "cells": [
  {
   "cell_type": "markdown",
   "metadata": {},
   "source": [
    "# Import Modules"
   ]
  },
  {
   "cell_type": "code",
   "execution_count": 2,
   "metadata": {},
   "outputs": [],
   "source": [
    "import matplotlib.pylab as plt\n",
    "import numpy as np\n",
    "import pandas as pd\n",
    "from scipy import stats\n",
    "import seaborn as sns\n",
    "import warnings\n",
    "warnings.filterwarnings('ignore')"
   ]
  },
  {
   "cell_type": "code",
   "execution_count": 19,
   "metadata": {},
   "outputs": [],
   "source": [
    "from sklearn.discriminant_analysis import LinearDiscriminantAnalysis, QuadraticDiscriminantAnalysis\n",
    "from sklearn.ensemble import AdaBoostClassifier, GradientBoostingClassifier, RandomForestClassifier\n",
    "from sklearn.linear_model import LogisticRegression\n",
    "from sklearn.metrics import accuracy_score, auc, classification_report, confusion_matrix, ConfusionMatrixDisplay, f1_score, precision_score,  recall_score, roc_curve\n",
    "from sklearn.model_selection import train_test_split\n",
    "from sklearn.naive_bayes import GaussianNB\n",
    "from sklearn.neighbors import KNeighborsClassifier\n",
    "from sklearn.neural_network import MLPClassifier\n",
    "from sklearn.preprocessing import LabelEncoder, MinMaxScaler\n",
    "from sklearn.svm import LinearSVC, NuSVC, SVC\n",
    "from sklearn.tree import DecisionTreeClassifier\n",
    "from sklearn.utils.multiclass import unique_labels"
   ]
  },
  {
   "cell_type": "markdown",
   "metadata": {},
   "source": [
    "# Intial Data Exploration"
   ]
  },
  {
   "cell_type": "code",
   "execution_count": 4,
   "metadata": {},
   "outputs": [
    {
     "name": "stdout",
     "output_type": "stream",
     "text": [
      "Shape of the data is  (181, 11)\n"
     ]
    }
   ],
   "source": [
    "data = pd.read_csv('input.csv')\n",
    "print('Shape of the data is ', data.shape)"
   ]
  },
  {
   "cell_type": "code",
   "execution_count": 5,
   "metadata": {},
   "outputs": [
    {
     "data": {
      "text/html": [
       "<div>\n",
       "<style scoped>\n",
       "    .dataframe tbody tr th:only-of-type {\n",
       "        vertical-align: middle;\n",
       "    }\n",
       "\n",
       "    .dataframe tbody tr th {\n",
       "        vertical-align: top;\n",
       "    }\n",
       "\n",
       "    .dataframe thead th {\n",
       "        text-align: right;\n",
       "    }\n",
       "</style>\n",
       "<table border=\"1\" class=\"dataframe\">\n",
       "  <thead>\n",
       "    <tr style=\"text-align: right;\">\n",
       "      <th></th>\n",
       "      <th>r</th>\n",
       "      <th>fck</th>\n",
       "      <th>n</th>\n",
       "      <th>fy</th>\n",
       "      <th>As</th>\n",
       "      <th>fyw</th>\n",
       "      <th>ρw</th>\n",
       "      <th>fsw</th>\n",
       "      <th>ρsw</th>\n",
       "      <th>Vf/Vs</th>\n",
       "      <th>Failure mode</th>\n",
       "    </tr>\n",
       "  </thead>\n",
       "  <tbody>\n",
       "    <tr>\n",
       "      <th>0</th>\n",
       "      <td>2.21</td>\n",
       "      <td>24.0</td>\n",
       "      <td>0.04</td>\n",
       "      <td>480.0</td>\n",
       "      <td>180.0</td>\n",
       "      <td>480.0</td>\n",
       "      <td>1.17</td>\n",
       "      <td>510.0</td>\n",
       "      <td>0.64</td>\n",
       "      <td>0.33</td>\n",
       "      <td>F</td>\n",
       "    </tr>\n",
       "    <tr>\n",
       "      <th>1</th>\n",
       "      <td>2.21</td>\n",
       "      <td>34.7</td>\n",
       "      <td>0.03</td>\n",
       "      <td>480.0</td>\n",
       "      <td>180.0</td>\n",
       "      <td>480.0</td>\n",
       "      <td>2.80</td>\n",
       "      <td>510.0</td>\n",
       "      <td>1.28</td>\n",
       "      <td>0.31</td>\n",
       "      <td>FS</td>\n",
       "    </tr>\n",
       "    <tr>\n",
       "      <th>2</th>\n",
       "      <td>2.50</td>\n",
       "      <td>16.9</td>\n",
       "      <td>0.21</td>\n",
       "      <td>469.2</td>\n",
       "      <td>314.0</td>\n",
       "      <td>445.6</td>\n",
       "      <td>0.72</td>\n",
       "      <td>608.9</td>\n",
       "      <td>0.44</td>\n",
       "      <td>0.48</td>\n",
       "      <td>F</td>\n",
       "    </tr>\n",
       "    <tr>\n",
       "      <th>3</th>\n",
       "      <td>2.50</td>\n",
       "      <td>16.9</td>\n",
       "      <td>0.34</td>\n",
       "      <td>469.2</td>\n",
       "      <td>314.0</td>\n",
       "      <td>445.6</td>\n",
       "      <td>0.72</td>\n",
       "      <td>608.9</td>\n",
       "      <td>0.44</td>\n",
       "      <td>0.47</td>\n",
       "      <td>F</td>\n",
       "    </tr>\n",
       "    <tr>\n",
       "      <th>4</th>\n",
       "      <td>2.50</td>\n",
       "      <td>16.9</td>\n",
       "      <td>0.48</td>\n",
       "      <td>469.2</td>\n",
       "      <td>314.0</td>\n",
       "      <td>445.6</td>\n",
       "      <td>0.72</td>\n",
       "      <td>608.9</td>\n",
       "      <td>0.44</td>\n",
       "      <td>0.41</td>\n",
       "      <td>F</td>\n",
       "    </tr>\n",
       "  </tbody>\n",
       "</table>\n",
       "</div>"
      ],
      "text/plain": [
       "      r   fck     n     fy     As    fyw    ρw    fsw   ρsw  Vf/Vs  \\\n",
       "0  2.21  24.0  0.04  480.0  180.0  480.0  1.17  510.0  0.64   0.33   \n",
       "1  2.21  34.7  0.03  480.0  180.0  480.0  2.80  510.0  1.28   0.31   \n",
       "2  2.50  16.9  0.21  469.2  314.0  445.6  0.72  608.9  0.44   0.48   \n",
       "3  2.50  16.9  0.34  469.2  314.0  445.6  0.72  608.9  0.44   0.47   \n",
       "4  2.50  16.9  0.48  469.2  314.0  445.6  0.72  608.9  0.44   0.41   \n",
       "\n",
       "  Failure mode  \n",
       "0            F  \n",
       "1           FS  \n",
       "2            F  \n",
       "3            F  \n",
       "4            F  "
      ]
     },
     "execution_count": 5,
     "metadata": {},
     "output_type": "execute_result"
    }
   ],
   "source": [
    "data.head()"
   ]
  },
  {
   "cell_type": "code",
   "execution_count": 6,
   "metadata": {},
   "outputs": [
    {
     "data": {
      "text/plain": [
       "r               float64\n",
       "fck             float64\n",
       "n               float64\n",
       "fy              float64\n",
       "As              float64\n",
       "fyw             float64\n",
       "ρw              float64\n",
       "fsw             float64\n",
       "ρsw             float64\n",
       "Vf/Vs           float64\n",
       "Failure mode     object\n",
       "dtype: object"
      ]
     },
     "execution_count": 6,
     "metadata": {},
     "output_type": "execute_result"
    }
   ],
   "source": [
    "data.dtypes"
   ]
  },
  {
   "cell_type": "markdown",
   "metadata": {},
   "source": [
    "## Variable Definitions\n",
    "| Variable | Definition |\n",
    "| -------- | ---------- |\n",
    "| r | Aspect Ratio |\n",
    "|f_{ck} | Concrete compressive strength |\n",
    "| n | Axial load ratio |\n",
    "| f_y | Yield strength of boundary veritcal reinforcement |\n",
    "| A_s | Area of boundary vertical reinforcement |\n",
    "| f_{yw} | Yield strength of web vertical reinforcement | \n",
    "| &rho;_w | Web vertical reinforcement ratio | \n",
    "| f_{sw} | Yield strength of web horizontal reinforcement |\n",
    "| &rho;_{sw} | Web horizontal reiforcement ratio |\n",
    "| V_f/V | Shear demand to capacity ratio |"
   ]
  },
  {
   "cell_type": "code",
   "execution_count": 7,
   "metadata": {},
   "outputs": [
    {
     "data": {
      "image/png": "[encoded data removed]",
      "text/plain": [
       "<Figure size 700x500 with 1 Axes>"
      ]
     },
     "metadata": {},
     "output_type": "display_data"
    }
   ],
   "source": [
    "mypal= ['#FC05FB', '#FEAEFE', '#FCD2FC','#F3FEFA', '#B4FFE4','#3FFEBA', '#FC05FB', '#FEAEFE', '#FCD2FC']\n",
    "\n",
    "plt.figure(figsize=(7, 5),facecolor='#F6F5F4')\n",
    "total = float(len(data))\n",
    "# ax = sns.countplot(x=data['Failure'], palette=mypal[1::1])\n",
    "ax = sns.countplot(x=data['Failure mode'])\n",
    "# ax.set_facecolor('#F6F5F4')\n",
    "\n",
    "for p in ax.patches:\n",
    "    \n",
    "    height = p.get_height()\n",
    "    ax.text(p.get_x()+p.get_width()/2.,height + 3,'{:1.1f} %'.format((height/total)*100), ha=\"center\")\n",
    "\n",
    "ax.set_title('Class distribution', fontsize=20, y=1.05)\n",
    "sns.set(font_scale=1.5)\n",
    "# plt.rc('font',family='Times New Roman',size=12)\n",
    "sns.despine(right=True)\n",
    "sns.despine(offset=5, trim=True)"
   ]
  },
  {
   "cell_type": "markdown",
   "metadata": {},
   "source": [
    "# Data Splitting"
   ]
  },
  {
   "cell_type": "code",
   "execution_count": 8,
   "metadata": {},
   "outputs": [
    {
     "data": {
      "text/html": [
       "<div>\n",
       "<style scoped>\n",
       "    .dataframe tbody tr th:only-of-type {\n",
       "        vertical-align: middle;\n",
       "    }\n",
       "\n",
       "    .dataframe tbody tr th {\n",
       "        vertical-align: top;\n",
       "    }\n",
       "\n",
       "    .dataframe thead th {\n",
       "        text-align: right;\n",
       "    }\n",
       "</style>\n",
       "<table border=\"1\" class=\"dataframe\">\n",
       "  <thead>\n",
       "    <tr style=\"text-align: right;\">\n",
       "      <th></th>\n",
       "      <th>r</th>\n",
       "      <th>fck</th>\n",
       "      <th>n</th>\n",
       "      <th>fy</th>\n",
       "      <th>As</th>\n",
       "      <th>fyw</th>\n",
       "      <th>ρw</th>\n",
       "      <th>fsw</th>\n",
       "      <th>ρsw</th>\n",
       "      <th>Vf/Vs</th>\n",
       "    </tr>\n",
       "  </thead>\n",
       "  <tbody>\n",
       "    <tr>\n",
       "      <th>0</th>\n",
       "      <td>2.21</td>\n",
       "      <td>24.0</td>\n",
       "      <td>0.04</td>\n",
       "      <td>480.0</td>\n",
       "      <td>180.0</td>\n",
       "      <td>480.0</td>\n",
       "      <td>1.17</td>\n",
       "      <td>510.0</td>\n",
       "      <td>0.64</td>\n",
       "      <td>0.33</td>\n",
       "    </tr>\n",
       "    <tr>\n",
       "      <th>1</th>\n",
       "      <td>2.21</td>\n",
       "      <td>34.7</td>\n",
       "      <td>0.03</td>\n",
       "      <td>480.0</td>\n",
       "      <td>180.0</td>\n",
       "      <td>480.0</td>\n",
       "      <td>2.80</td>\n",
       "      <td>510.0</td>\n",
       "      <td>1.28</td>\n",
       "      <td>0.31</td>\n",
       "    </tr>\n",
       "    <tr>\n",
       "      <th>2</th>\n",
       "      <td>2.50</td>\n",
       "      <td>16.9</td>\n",
       "      <td>0.21</td>\n",
       "      <td>469.2</td>\n",
       "      <td>314.0</td>\n",
       "      <td>445.6</td>\n",
       "      <td>0.72</td>\n",
       "      <td>608.9</td>\n",
       "      <td>0.44</td>\n",
       "      <td>0.48</td>\n",
       "    </tr>\n",
       "    <tr>\n",
       "      <th>3</th>\n",
       "      <td>2.50</td>\n",
       "      <td>16.9</td>\n",
       "      <td>0.34</td>\n",
       "      <td>469.2</td>\n",
       "      <td>314.0</td>\n",
       "      <td>445.6</td>\n",
       "      <td>0.72</td>\n",
       "      <td>608.9</td>\n",
       "      <td>0.44</td>\n",
       "      <td>0.47</td>\n",
       "    </tr>\n",
       "    <tr>\n",
       "      <th>4</th>\n",
       "      <td>2.50</td>\n",
       "      <td>16.9</td>\n",
       "      <td>0.48</td>\n",
       "      <td>469.2</td>\n",
       "      <td>314.0</td>\n",
       "      <td>445.6</td>\n",
       "      <td>0.72</td>\n",
       "      <td>608.9</td>\n",
       "      <td>0.44</td>\n",
       "      <td>0.41</td>\n",
       "    </tr>\n",
       "  </tbody>\n",
       "</table>\n",
       "</div>"
      ],
      "text/plain": [
       "      r   fck     n     fy     As    fyw    ρw    fsw   ρsw  Vf/Vs\n",
       "0  2.21  24.0  0.04  480.0  180.0  480.0  1.17  510.0  0.64   0.33\n",
       "1  2.21  34.7  0.03  480.0  180.0  480.0  2.80  510.0  1.28   0.31\n",
       "2  2.50  16.9  0.21  469.2  314.0  445.6  0.72  608.9  0.44   0.48\n",
       "3  2.50  16.9  0.34  469.2  314.0  445.6  0.72  608.9  0.44   0.47\n",
       "4  2.50  16.9  0.48  469.2  314.0  445.6  0.72  608.9  0.44   0.41"
      ]
     },
     "execution_count": 8,
     "metadata": {},
     "output_type": "execute_result"
    }
   ],
   "source": [
    "X = data.loc[:, data.columns != 'Failure mode']\n",
    "y=data['Failure mode']\n",
    "X.head()"
   ]
  },
  {
   "cell_type": "code",
   "execution_count": 9,
   "metadata": {},
   "outputs": [],
   "source": [
    "X_train, X_test, y_train, y_test = train_test_split(X, y, test_size=0.3, random_state=0)\n",
    "scaler = MinMaxScaler()\n",
    "X_train = scaler.fit_transform(X_train)\n",
    "X_test = scaler.transform(X_test)"
   ]
  },
  {
   "cell_type": "markdown",
   "metadata": {},
   "source": [
    "# Train the models"
   ]
  },
  {
   "cell_type": "code",
   "execution_count": 10,
   "metadata": {},
   "outputs": [],
   "source": [
    "classifiers = [GaussianNB(), \n",
    "               KNeighborsClassifier(n_neighbors=5),\n",
    "               LogisticRegression(solver=\"liblinear\", random_state=0),\n",
    "               SVC(probability=True, random_state=0),\n",
    "               DecisionTreeClassifier(random_state=0),\n",
    "               RandomForestClassifier(random_state=0),\n",
    "               AdaBoostClassifier(n_estimators=100, random_state=0),\n",
    "               GradientBoostingClassifier(random_state=0),\n",
    "               MLPClassifier(random_state=0)]"
   ]
  },
  {
   "cell_type": "code",
   "execution_count": 11,
   "metadata": {},
   "outputs": [],
   "source": [
    "for cls in classifiers:\n",
    "    cls.fit(X_train, y_train)"
   ]
  },
  {
   "cell_type": "markdown",
   "metadata": {},
   "source": [
    "# Testing"
   ]
  },
  {
   "cell_type": "code",
   "execution_count": 20,
   "metadata": {},
   "outputs": [
    {
     "name": "stdout",
     "output_type": "stream",
     "text": [
      "                            Accuracy  Precision    Recall  F1-Score\n",
      "GaussianNB                  0.727273   0.819100  0.727273  0.739947\n",
      "KNeighborsClassifier        0.800000   0.851316  0.800000  0.814109\n",
      "LogisticRegression          0.800000   0.775568  0.800000  0.783706\n",
      "SVC                         0.872727   0.873977  0.872727  0.870768\n",
      "DecisionTreeClassifier      0.909091   0.912987  0.909091  0.910391\n",
      "RandomForestClassifier      0.927273   0.932468  0.927273  0.929138\n",
      "AdaBoostClassifier          0.818182   0.755711  0.818182  0.772965\n",
      "GradientBoostingClassifier  0.927273   0.932468  0.927273  0.929138\n",
      "MLPClassifier               0.818182   0.807038  0.818182  0.810303\n"
     ]
    }
   ],
   "source": [
    "results = {}\n",
    "\n",
    "for cls in classifiers:\n",
    "    y_pred = cls.predict(X_test)\n",
    "    accuracy = accuracy_score(y_test, y_pred)\n",
    "    precision = precision_score(y_test, y_pred, average='weighted')\n",
    "    recall = recall_score(y_test, y_pred, average='weighted')\n",
    "    f1 = f1_score(y_test, y_pred, average='weighted')\n",
    "\n",
    "    results[type(cls).__name__] = {\n",
    "        'Accuracy': accuracy,\n",
    "        'Precision': precision,\n",
    "        'Recall': recall,\n",
    "        'F1-Score': f1\n",
    "    }\n",
    "\n",
    "# Convert the results dictionary to a DataFrame for easier analysis\n",
    "results_df = pd.DataFrame.from_dict(results, orient='index')\n",
    "\n",
    "print(results_df)\n",
    "\n",
    "    "
   ]
  },
  {
   "cell_type": "code",
   "execution_count": null,
   "metadata": {},
   "outputs": [],
   "source": []
  }
 ],
 "metadata": {
  "kernelspec": {
   "display_name": "Python 3",
   "language": "python",
   "name": "python3"
  },
  "language_info": {
   "codemirror_mode": {
    "name": "ipython",
    "version": 3
   },
   "file_extension": ".py",
   "mimetype": "text/x-python",
   "name": "python",
   "nbconvert_exporter": "python",
   "pygments_lexer": "ipython3",
   "version": "3.10.6"
  },
  "orig_nbformat": 4
 },
 "nbformat": 4,
 "nbformat_minor": 2
}
